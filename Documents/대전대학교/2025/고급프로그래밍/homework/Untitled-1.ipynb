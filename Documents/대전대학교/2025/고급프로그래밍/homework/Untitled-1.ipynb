{
 "cells": [
  {
   "cell_type": "code",
   "execution_count": 1,
   "metadata": {},
   "outputs": [
    {
     "name": "stdout",
     "output_type": "stream",
     "text": [
      "game_score =  1800\n",
      "당신은 고수 입니다.\n"
     ]
    }
   ],
   "source": [
    "game_score = int(input(\"당신의 게임 점수는? : \"))\n",
    "\n",
    "print(\"game_score = \", game_score)\n",
    "\n",
    "if game_score >= 1000:\n",
    "    print(\"당신은 고수 입니다.\")\n",
    "    \n",
    "\n"
   ]
  },
  {
   "cell_type": "code",
   "execution_count": 5,
   "metadata": {},
   "outputs": [
    {
     "name": "stdout",
     "output_type": "stream",
     "text": [
      "num_a =  100 num_b =  100\n",
      "두 값이 일치합니다.\n"
     ]
    }
   ],
   "source": [
    "num_a = int(input(\"num_a = \"))\n",
    "num_b = int(input(\"num_b = \"))\n",
    "\n",
    "print(\"num_a = \",num_a,\"num_b = \", num_b)\n",
    "\n",
    "if num_a == num_b:\n",
    "    print(\"두 값이 일치합니다.\")"
   ]
  },
  {
   "cell_type": "code",
   "execution_count": 6,
   "metadata": {},
   "outputs": [
    {
     "name": "stdout",
     "output_type": "stream",
     "text": [
      "9 은(는) 3의 배수입니다.\n"
     ]
    }
   ],
   "source": [
    "number = int(input('정수를 입력하세요 : '))\n",
    "if number % 3 ==0:\n",
    "    print(number,'은(는) 3의 배수입니다.')"
   ]
  },
  {
   "cell_type": "code",
   "execution_count": 8,
   "metadata": {},
   "outputs": [
    {
     "name": "stdout",
     "output_type": "stream",
     "text": [
      "30 은(는) 3의 배수이면서 5의 배수입니다.\n"
     ]
    }
   ],
   "source": [
    "number = int(input('정수를 입력하세요 : '))\n",
    "if number % 3 ==0 and number % 5 ==0:\n",
    "    print(number,'은(는) 3의 배수이면서 5의 배수입니다.')"
   ]
  },
  {
   "cell_type": "code",
   "execution_count": 9,
   "metadata": {},
   "outputs": [
    {
     "name": "stdout",
     "output_type": "stream",
     "text": [
      "3 은 홀수입니다.\n"
     ]
    }
   ],
   "source": [
    "n = int(input(\"정수를 입력하세요 : \"))\n",
    "if n % 2 == 0:\n",
    "    print(n, \"은 짝수입니다.\")\n",
    "else:\n",
    "    print(n, \"은 홀수입니다.\")"
   ]
  },
  {
   "cell_type": "code",
   "execution_count": 13,
   "metadata": {},
   "outputs": [
    {
     "name": "stdout",
     "output_type": "stream",
     "text": [
      "10 는(은) 2 배수입니다.\n"
     ]
    }
   ],
   "source": [
    "a, b = map(int, input(\"두 정수를 입력하시오 : \").split())\n",
    "\n",
    "if a%b==0:\n",
    "    print(a,\"는(은)\", b, \"배수입니다.\")\n",
    "\n",
    "else:\n",
    "    print(a,\"는(은)\", b, \"배수가 아닙니다..\")"
   ]
  },
  {
   "cell_type": "code",
   "execution_count": 15,
   "metadata": {},
   "outputs": [
    {
     "name": "stdout",
     "output_type": "stream",
     "text": [
      "다음 기회에...\n"
     ]
    }
   ],
   "source": [
    "winning_numbers = {2, 3, 9}\n",
    "\n",
    "user_numbers = set(map(int, input(\"세 복권번호를 입력하세요: \").split()))\n",
    "\n",
    "matched = len(user_numbers & winning_numbers)\n",
    "\n",
    "if matched == 3:\n",
    "    print(\"상금 1억 원\")\n",
    "elif matched == 2:\n",
    "    print(\"상금 1천만 원\")\n",
    "elif matched == 1:\n",
    "    print(\"상금 1만 원\")\n",
    "else:\n",
    "    print(\"다음 기회에...\")"
   ]
  },
  {
   "cell_type": "code",
   "execution_count": 16,
   "metadata": {},
   "outputs": [
    {
     "name": "stdout",
     "output_type": "stream",
     "text": [
      "상금 1천만 원\n"
     ]
    }
   ],
   "source": [
    "winning_numbers = [2, 3, 9]\n",
    "a, b, c = map(int, input(\"세 정수를 입력하세요: \").split())\n",
    "matched_count = (a in winning_numbers) + (b in winning_numbers) + (c in winning_numbers)\n",
    "\n",
    "if matched_count == 3:\n",
    "    print(\"상금 1억 원\")\n",
    "elif matched_count == 2:\n",
    "    print(\"상금 1천만 원\")\n",
    "elif matched_count == 1:\n",
    "    print(\"상금 1만 원\")\n",
    "else:\n",
    "    print(\"다음 기회에...\")"
   ]
  },
  {
   "cell_type": "code",
   "execution_count": 22,
   "metadata": {},
   "outputs": [
    {
     "name": "stdout",
     "output_type": "stream",
     "text": [
      "5 , 999999 는 원의 외부에 있습니다.\n"
     ]
    }
   ],
   "source": [
    "x, y = map(int, input(\"x, y 좌표를 입력하세요. : \").split())\n",
    "dist = (x**2 + y**2)**0.5\n",
    "\n",
    "if dist <= 5:\n",
    "    print(x, ',', y, \"는 원의 내부에 있습니다.\")\n",
    "else:\n",
    "    print(x, ',', y, \"는 원의 외부에 있습니다.\")"
   ]
  },
  {
   "cell_type": "code",
   "execution_count": 2,
   "metadata": {},
   "outputs": [
    {
     "name": "stdout",
     "output_type": "stream",
     "text": [
      "ㅁ (은)는 자음입니다.\n"
     ]
    }
   ],
   "source": [
    "a = input(\"알파벳을 입력하시오 : \")\n",
    "\n",
    "if a in (\"a\", \"e\", \"i\", \"o\", \"u\"):\n",
    "    print(a, \"(은)는 모음입니다.\")\n",
    "\n",
    "else:\n",
    "    print(a, \"(은)는 자음입니다.\")"
   ]
  }
 ],
 "metadata": {
  "kernelspec": {
   "display_name": "Python 3",
   "language": "python",
   "name": "python3"
  },
  "language_info": {
   "codemirror_mode": {
    "name": "ipython",
    "version": 3
   },
   "file_extension": ".py",
   "mimetype": "text/x-python",
   "name": "python",
   "nbconvert_exporter": "python",
   "pygments_lexer": "ipython3",
   "version": "3.9.10"
  }
 },
 "nbformat": 4,
 "nbformat_minor": 2
}
